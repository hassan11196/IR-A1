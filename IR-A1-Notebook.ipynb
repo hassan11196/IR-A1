{
 "cells": [
  {
   "cell_type": "markdown",
   "metadata": {},
   "source": [
    "## Imports and declerations"
   ]
  },
  {
   "cell_type": "code",
   "execution_count": 133,
   "metadata": {},
   "outputs": [
    {
     "data": {
      "text/plain": [
       "'C:\\\\Users\\\\hassa\\\\Desktop\\\\Development\\\\Uni Projects\\\\Information Retrieval\\\\A1'"
      ]
     },
     "execution_count": 133,
     "metadata": {},
     "output_type": "execute_result"
    }
   ],
   "source": [
    "import pickle\n",
    "import os\n",
    "import string\n",
    "import re\n",
    "import pprint\n",
    "from IPython.core.interactiveshell import InteractiveShell\n",
    "import numpy as np\n",
    "import boolean\n",
    "import pyparsing\n",
    "from pyparsing import Word, alphas, oneOf, operatorPrecedence, opAssoc\n",
    "InteractiveShell.ast_node_interactivity = \"all\"\n",
    "\n",
    "os.getcwd()"
   ]
  },
  {
   "cell_type": "markdown",
   "metadata": {},
   "source": [
    "## Raw Vocabulary Storage:"
   ]
  },
  {
   "cell_type": "code",
   "execution_count": null,
   "metadata": {},
   "outputs": [],
   "source": []
  },
  {
   "cell_type": "code",
   "execution_count": 2,
   "metadata": {},
   "outputs": [],
   "source": [
    "\n",
    "# Break words like Veterans.Before, West.In amendment.Change\n",
    "\n",
    "def split_words(vocabl):\n",
    "    new_vocab = set()\n",
    "    for word in vocabl:\n",
    "        if re.search('^[a-zA-Z]+[.][a-zA-Z]+$',word) is not None:\n",
    "            print(re.search('^[a-zA-Z]+[.][a-zA-Z]+$',word))\n",
    "            w1, w2 = word.split('.')\n",
    "#             print(w1)\n",
    "# #             print(w2)\n",
    "            new_vocab.add(w1)\n",
    "            new_vocab.add(w2)\n",
    "        elif re.search('^[a-zA-Z]+[?][a-zA-Z]+$',word) is not None:\n",
    "# #             print(re.search('^[a-zA-Z]+[.][a-zA-Z]+$',word))\n",
    "            w1, w2 = word.split('?')\n",
    "# #             print(w1)\n",
    "# #             print(w2)\n",
    "            new_vocab.add(w1)\n",
    "            new_vocab.add(w2)\n",
    "        elif re.search('^[a-zA-Z]+[,][a-zA-Z]+$',word) is not None:\n",
    "# #             print(re.search('^[a-zA-Z]+[.][a-zA-Z]+$',word))\n",
    "            w1, w2 = word.split(',')\n",
    "# #             print(w1)\n",
    "# #             print(w2)\n",
    "            new_vocab.add(w1)\n",
    "            new_vocab.add(w2)\n",
    "        else:\n",
    "            new_vocab.add(word)\n",
    "    return new_vocab\n",
    "\n",
    "# Remove Punctuation\n",
    "def remove_punctuation(word):\n",
    "    return word.translate(word.maketrans('','',string.punctuation))\n"
   ]
  },
  {
   "cell_type": "code",
   "execution_count": 114,
   "metadata": {},
   "outputs": [],
   "source": [
    "vocab = set()\n",
    "doc_contents = []\n",
    "printable = set(string.printable) \n",
    "# Printable characters are\n",
    "# 0123456789abcdefghijklmnopqrstuvwxyzABCDEFGHIJKLMNOPQRSTUVWXYZ\n",
    "# !\"#$%&\\'()*+,-./:;<=>?@[\\\\]^_`{|}~ \\t\\n\\r\\x0b\\x0c\n",
    "\n",
    "\n",
    "stop_words = set()\n",
    "with open('Stopword-List.txt', 'r') as stop_word_file:\n",
    "    lines = stop_word_file.readlines()\n",
    "    for line in lines:\n",
    "        stop_words.add(line.split('\\n')[0])\n",
    "    stop_words.remove('')\n",
    "\n",
    "for file_number in range(0, 56):\n",
    "    with open(f'data/Trump Speechs/speech_{file_number}.txt', 'r') as file1:\n",
    "        lines = file1.readlines()\n",
    "#         print(f'File Number : speech_{file_number}.txt' )\n",
    "#         print(lines[0])\n",
    "        for line in lines:\n",
    "            doc_set = set()\n",
    "            # split words at . , whitespace ? ! : ;\n",
    "            for word in re.split('[.\\s,?!:;]', line):\n",
    "                \n",
    "                \n",
    "                # Case Folding\n",
    "                word = word.lower()\n",
    "                \n",
    "                # Filter non-ASCII characters\n",
    "                word = ''.join(filter(lambda x: x in printable, word))\n",
    "                \n",
    "                # Remove Punctuations\n",
    "                word = remove_punctuation(word)\n",
    "                \n",
    "                if re.match('\\d+[A-Za-z]+',word):\n",
    "                    word = re.split('\\d+',word)[1]\n",
    "                if re.match('[A-Za-z]+\\d+',word):\n",
    "                    word = re.split('\\d+',word)[0]\n",
    "                \n",
    "                if len(word) == 0 or len(word) == 1 or word == '' or word == ' ':\n",
    "                    continue\n",
    "                if word in stop_words:\n",
    "                    continue\n",
    "                         \n",
    "               \n",
    "                    \n",
    "                vocab.add(word)\n",
    "                \n",
    "                doc_set.add(word)\n",
    "        \n",
    "        doc_contents.append(doc_set)"
   ]
  },
  {
   "cell_type": "code",
   "execution_count": 115,
   "metadata": {},
   "outputs": [
    {
     "name": "stdout",
     "output_type": "stream",
     "text": [
      "Total Vocabulary Size \n",
      "7459\n",
      "Total Number of Documents \n",
      "56\n"
     ]
    }
   ],
   "source": [
    "print('Total Vocabulary Size ')\n",
    "print(len(vocab))\n",
    "print('Total Number of Documents ')\n",
    "print(len(doc_contents))"
   ]
  },
  {
   "cell_type": "markdown",
   "metadata": {},
   "source": [
    "# Boolean Model:"
   ]
  },
  {
   "cell_type": "code",
   "execution_count": 116,
   "metadata": {},
   "outputs": [
    {
     "name": "stdout",
     "output_type": "stream",
     "text": [
      "[[1. 0. 0. ... 0. 0. 0.]\n",
      " [1. 1. 0. ... 1. 1. 0.]\n",
      " [0. 0. 0. ... 0. 0. 0.]\n",
      " ...\n",
      " [1. 1. 0. ... 0. 0. 0.]\n",
      " [0. 0. 0. ... 0. 0. 0.]\n",
      " [0. 0. 0. ... 0. 0. 0.]]\n"
     ]
    }
   ],
   "source": [
    "# print(sorted(list(vocab)))\n",
    "# for index,doc in enumerate(doc_contents):\n",
    "#     print('Vocab size of doc' + str(index))\n",
    "#     print(len(doc))\n",
    "\n",
    "vocab_list = sorted(list(vocab))\n",
    "\n",
    "term_doc_matrix_np = np.zeros((len(vocab), len(doc_contents)))\n",
    "\n",
    "for word_index, word in enumerate(vocab_list):\n",
    "    word_row = []\n",
    "    for doc_index, doc in enumerate(doc_contents):\n",
    "        if word in doc:\n",
    "            term_doc_matrix_np[word_index, doc_index] = 1\n",
    "        else:\n",
    "            term_doc_matrix_np[word_index, doc_index] = 0\n",
    "            \n",
    "print(term_doc_matrix_np)\n",
    "    "
   ]
  },
  {
   "cell_type": "code",
   "execution_count": 89,
   "metadata": {},
   "outputs": [],
   "source": [
    "\n",
    "with open('pickled/vocab.p', 'ab') as vocab_file:\n",
    "    pickle.dump(vocab, vocab_file)"
   ]
  },
  {
   "cell_type": "code",
   "execution_count": 90,
   "metadata": {},
   "outputs": [],
   "source": [
    "with open('pickled/vocab.p', 'rb') as vocab_file:\n",
    "    vocabf = pickle.load(vocab_file)"
   ]
  },
  {
   "cell_type": "code",
   "execution_count": 117,
   "metadata": {},
   "outputs": [
    {
     "name": "stdout",
     "output_type": "stream",
     "text": [
      "Enter your query : running\n",
      "[1. 1. 1. 1. 1. 0. 1. 0. 1. 1. 1. 1. 0. 0. 0. 0. 1. 0. 0. 1. 1. 1. 1. 0.\n",
      " 1. 1. 1. 1. 0. 0. 1. 0. 1. 1. 1. 1. 1. 1. 0. 1. 1. 1. 0. 0. 0. 1. 1. 0.\n",
      " 0. 0. 0. 0. 0. 0. 0. 0.]\n",
      "[[ 0]\n",
      " [ 1]\n",
      " [ 2]\n",
      " [ 3]\n",
      " [ 4]\n",
      " [ 6]\n",
      " [ 8]\n",
      " [ 9]\n",
      " [10]\n",
      " [11]\n",
      " [16]\n",
      " [19]\n",
      " [20]\n",
      " [21]\n",
      " [22]\n",
      " [24]\n",
      " [25]\n",
      " [26]\n",
      " [27]\n",
      " [30]\n",
      " [32]\n",
      " [33]\n",
      " [34]\n",
      " [35]\n",
      " [36]\n",
      " [37]\n",
      " [39]\n",
      " [40]\n",
      " [41]\n",
      " [45]\n",
      " [46]]\n"
     ]
    }
   ],
   "source": [
    "query = input('Enter your query : ')\n",
    "if query in vocab:\n",
    "    term_index = vocab_list.index(query)\n",
    "    term_row = term_doc_matrix_np[term_index]\n",
    "    print(term_row)\n",
    "    doc_ids = np.argwhere(term_row == 1)\n",
    "    print(doc_ids)\n",
    "else:\n",
    "    print(f'{query} not present in vocabulary')\n"
   ]
  },
  {
   "cell_type": "code",
   "execution_count": 66,
   "metadata": {},
   "outputs": [
    {
     "name": "stdout",
     "output_type": "stream",
     "text": [
      "<re.Match object; span=(0, 9), match='000dollar'>\n",
      "['', 'dollar']\n"
     ]
    }
   ],
   "source": [
    "test = '000dollar'\n",
    "x = re.match('\\d+[A-Za-z]+',test)\n",
    "print(x)\n",
    "x = re.split('\\d+',test)\n",
    "print(x)\n",
    "# For matching queries like\n",
    "# not hammer or pakistan\n",
    "# (magnum or not hammer) or not (polish and pakistan)\n",
    "x = re.match('(not)?\\s*(\\w+|(\\((not)?\\s*(\\w+)\\s+(and|or)\\s+(not)?\\s*(\\w+)\\)))\\s+(or|and)\\s+(not)?\\s*(\\w+|(\\((not)?\\s*(\\w+)\\s+(and|or)\\s+(not)?\\s*(\\w+)\\)))')\n",
    "\n"
   ]
  },
  {
   "cell_type": "code",
   "execution_count": 99,
   "metadata": {},
   "outputs": [],
   "source": [
    "ans = {'0', '1', '10', '11', '12', '16', '17', '18', '19', '2', '20', '21', '22', '24', '25', '26', '27', '28', '3', '30', '32', '33', '34', '35', '36', '37', '39', '4', '40', '41', '44', '45', '46', '47', '5', '50', '51', '52', '53', '6', '8', '9'}\n",
    "ans2 =set([str(x[0]) for x in doc_ids])"
   ]
  },
  {
   "cell_type": "code",
   "execution_count": 108,
   "metadata": {},
   "outputs": [
    {
     "name": "stdout",
     "output_type": "stream",
     "text": [
      "42\n",
      "{'19', '11', '35', '41', '2', '6', '40', '30', '36', '1', '0', '34', '16', '22', '8', '9', '4', '45', '37', '39', '26', '46', '21', '32', '25', '33', '3', '24', '27', '10', '20'}\n",
      "{'52', '44', '12', '53', '51', '50', '5', '17', '18', '47', '28'}\n"
     ]
    }
   ],
   "source": [
    "print(len(ans))\n",
    "print((ans2))\n",
    "print(ans.difference(ans2))"
   ]
  },
  {
   "cell_type": "markdown",
   "metadata": {},
   "source": [
    "# References :\n",
    "\n",
    "http://www.pyregex.com/\n",
    "http://cs231n.github.io/python-numpy-tutorial/\n",
    "https://www.online-utility.org/text/analyzer.jsp\n",
    "https://stackoverflow.com/questions/2118261/parse-boolean-arithmetic-including-parentheses-with-regex\n",
    "https://regex101.com/r/M8z3U4/1"
   ]
  },
  {
   "cell_type": "code",
   "execution_count": 145,
   "metadata": {},
   "outputs": [
    {
     "name": "stdout",
     "output_type": "stream",
     "text": [
      "pakistan|afganistan|aid\n"
     ]
    }
   ],
   "source": []
  },
  {
   "cell_type": "code",
   "execution_count": 147,
   "metadata": {},
   "outputs": [
    {
     "ename": "TypeError",
     "evalue": "'set' object is not callable",
     "output_type": "error",
     "traceback": [
      "\u001b[1;31m---------------------------------------------------------------------------\u001b[0m",
      "\u001b[1;31mTypeError\u001b[0m                                 Traceback (most recent call last)",
      "\u001b[1;32m<ipython-input-147-e05fb0970a6a>\u001b[0m in \u001b[0;36m<module>\u001b[1;34m\u001b[0m\n\u001b[1;32m----> 1\u001b[1;33m \u001b[0mexpression1\u001b[0m\u001b[1;33m.\u001b[0m\u001b[0msymbols\u001b[0m\u001b[1;33m(\u001b[0m\u001b[1;33m)\u001b[0m\u001b[1;33m\u001b[0m\u001b[1;33m\u001b[0m\u001b[0m\n\u001b[0m",
      "\u001b[1;31mTypeError\u001b[0m: 'set' object is not callable"
     ]
    }
   ],
   "source": []
  },
  {
   "cell_type": "code",
   "execution_count": null,
   "metadata": {},
   "outputs": [],
   "source": [
    "inp = \"pakistan AND Running\"\n",
    " re.split('[\\s\\(\\)]', inp)"
   ]
  }
 ],
 "metadata": {
  "kernelspec": {
   "display_name": "Python 3",
   "language": "python",
   "name": "python3"
  },
  "language_info": {
   "codemirror_mode": {
    "name": "ipython",
    "version": 3
   },
   "file_extension": ".py",
   "mimetype": "text/x-python",
   "name": "python",
   "nbconvert_exporter": "python",
   "pygments_lexer": "ipython3",
   "version": "3.7.3"
  }
 },
 "nbformat": 4,
 "nbformat_minor": 4
}
